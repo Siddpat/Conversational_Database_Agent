{
 "cells": [
  {
   "cell_type": "markdown",
   "metadata": {},
   "source": [
    "# Conversational Database Agent - Testing Notebook\n",
    "\n",
    "This notebook demonstrates the capabilities of the Conversational Database Agent for MongoDB."
   ]
  },
  {
   "cell_type": "markdown",
   "metadata": {},
   "source": [
    "## Setup and Installation"
   ]
  },
  {
   "cell_type": "code",
   "execution_count": null,
   "metadata": {},
   "outputs": [],
   "source": [
    "\n",
    "# !pip install -r requirements.txt"
   ]
  },
  {
   "cell_type": "code",
   "execution_count": null,
   "metadata": {},
   "outputs": [],
   "source": [
    "import os\n",
    "import json\n",
    "from datetime import datetime\n",
    "from database_agent import ConversationalDatabaseAgent\n",
    "from config import config\n",
    "\n",
    "# Set environment variables (replace with your actual values)\n",
    "os.environ[\"OPENAI_API_KEY\"] = \"openai-api-key\"\n",
    "os.environ[\"MONGODB_URI\"] = \"mongodb-connection-string\""
   ]
  },
  {
   "cell_type": "markdown",
   "metadata": {},
   "source": [
    "## Mock Setup for Testing (if you don't have real connections)"
   ]
  },
  {
   "cell_type": "code",
   "execution_count": null,
   "metadata": {},
   "outputs": [],
   "source": [
    "\n",
    "class MockMongoDBQueryExecutor:\n",
    "    def __init__(self, connection_string: str, database_name: str = \"sample_analytics\"):\n",
    "        self.data = {\n",
    "            \"accounts\": [\n",
    "                {\"account_id\": \"A001\", \"limit\": 10000, \"products\": [\"checking\", \"savings\"], \"created_on\": \"2023-01-15\"},\n",
    "                {\"account_id\": \"A002\", \"limit\": 5000, \"products\": [\"checking\"], \"created_on\": \"2023-02-20\"},\n",
    "                {\"account_id\": \"A003\", \"limit\": 15000, \"products\": [\"checking\", \"credit\"], \"created_on\": \"2023-03-10\"}\n",
    "            ],\n",
    "            \"customers\": [\n",
    "                {\"customer_id\": \"C001\", \"name\": \"John Doe\", \"email\": \"john@email.com\", \"active\": True},\n",
    "                {\"customer_id\": \"C002\", \"name\": \"Jane Smith\", \"email\": \"jane@email.com\", \"active\": True},\n",
    "                {\"customer_id\": \"C003\", \"name\": \"Bob Johnson\", \"email\": \"bob@email.com\", \"active\": False}\n",
    "            ],\n",
    "            \"transactions\": [\n",
    "                {\"transaction_id\": \"T001\", \"account_id\": \"A001\", \"amount\": 250.50, \"date\": \"2024-01-15\", \"transaction_code\": \"DEP\"},\n",
    "                {\"transaction_id\": \"T002\", \"account_id\": \"A002\", \"amount\": -75.25, \"date\": \"2024-01-16\", \"transaction_code\": \"WTH\"},\n",
    "                {\"transaction_id\": \"T003\", \"account_id\": \"A001\", \"amount\": 1200.00, \"date\": \"2024-01-17\", \"transaction_code\": \"DEP\"}\n",
    "            ]\n",
    "        }\n",
    "    \n",
    "    def execute_query(self, intent):\n",
    "        from database_agent import QueryType\n",
    "        \n",
    "        if intent.query_type == QueryType.COUNT:\n",
    "            collection = intent.collections[0] if intent.collections else \"customers\"\n",
    "            count = len(self.data.get(collection, []))\n",
    "            return [{\"count\": count, \"collection\": collection, \"filters\": intent.filters}]\n",
    "        elif intent.query_type == QueryType.FILTER:\n",
    "            collection = intent.collections[0] if intent.collections else \"accounts\"\n",
    "            return self.data.get(collection, [])[:5]\n",
    "        elif intent.query_type == QueryType.AGGREGATION:\n",
    "            if intent.aggregation_type == \"avg\":\n",
    "                return [{\"average\": 525.08}]\n",
    "            elif intent.aggregation_type == \"sum\":\n",
    "                return [{\"total\": 1375.25}]\n",
    "        else:\n",
    "            collection = intent.collections[0] if intent.collections else \"accounts\"\n",
    "            return self.data.get(collection, [])[:3]\n",
    "\n",
    "# Replace the real MongoDB executor with mock for testing\n",
    "import database_agent\n",
    "database_agent.MongoDBQueryExecutor = MockMongoDBQueryExecutor"
   ]
  },
  {
   "cell_type": "markdown",
   "metadata": {},
   "source": [
    "## Initialize the Agent"
   ]
  },
  {
   "cell_type": "code",
   "execution_count": null,
   "metadata": {},
   "outputs": [],
   "source": [
    "# Initialize the conversational database agent\n",
    "agent = ConversationalDatabaseAgent(\n",
    "    mongodb_uri=\"mongodb://demo:27017/\",  # Replace with your MongoDB URI\n",
    "    openai_api_key=\"demo_key\"  # Replace with your OpenAI API key\n",
    ")\n",
    "\n",
    "print(\"Agent initialized successfully!\")"
   ]
  },
  {
   "cell_type": "markdown",
   "metadata": {},
   "source": [
    "## Test Basic Queries"
   ]
  },
  {
   "cell_type": "code",
   "execution_count": null,
   "metadata": {},
   "outputs": [],
   "source": [
    "# Count query\n",
    "session_id = f\"notebook_{datetime.now().strftime('%Y%m%d_%H%M%S')}\"\n",
    "\n",
    "query1 = \"How many customers do we have?\"\n",
    "print(f\"Query: {query1}\")\n",
    "\n",
    "try:\n",
    "    response1 = agent.process_query(query1, session_id)\n",
    "    print(f\"Response: {response1['response']}\")\n",
    "    print(f\"Query Type: {response1['query_type']}\")\n",
    "    print(f\"Confidence: {response1['confidence']}\")\n",
    "    print(f\"Insights: {response1['insights']}\")\n",
    "except Exception as e:\n",
    "    print(f\"Error: {e}\")"
   ]
  },
  {
   "cell_type": "code",
   "execution_count": null,
   "metadata": {},
   "outputs": [],
   "source": [
    "# Filter query\n",
    "query2 = \"Show me all accounts\"\n",
    "print(f\"Query: {query2}\")\n",
    "\n",
    "try:\n",
    "    response2 = agent.process_query(query2, session_id)\n",
    "    print(f\"Response: {response2['response']}\")\n",
    "    print(f\"Query Type: {response2['query_type']}\")\n",
    "    print(f\"Results Count: {response2['results_count']}\")\n",
    "except Exception as e:\n",
    "    print(f\"Error: {e}\")"
   ]
  },
  {
   "cell_type": "code",
   "execution_count": null,
   "metadata": {},
   "outputs": [],
   "source": [
    "# Aggregation query\n",
    "query3 = \"What's the average transaction amount?\"\n",
    "print(f\"Query: {query3}\")\n",
    "\n",
    "try:\n",
    "    response3 = agent.process_query(query3, session_id)\n",
    "    print(f\"Response: {response3['response']}\")\n",
    "    print(f\"Query Type: {response3['query_type']}\")\n",
    "    print(f\"Collections: {response3['collections_queried']}\")\n",
    "except Exception as e:\n",
    "    print(f\"Error: {e}\")"
   ]
  },
  {
   "cell_type": "markdown",
   "metadata": {},
   "source": [
    "## Test Conversation Memory"
   ]
  },
  {
   "cell_type": "code",
   "execution_count": null,
   "metadata": {},
   "outputs": [],
   "source": [
    "\n",
    "queries = [\n",
    "    \"Tell me about the accounts collection\",\n",
    "    \"How many of those accounts have a limit over 7000?\",\n",
    "    \"What about customers?\",\n",
    "    \"Show me the inactive ones\"\n",
    "]\n",
    "\n",
    "print(\"Testing conversation memory:\\n\")\n",
    "\n",
    "for i, query in enumerate(queries, 1):\n",
    "    print(f\"Query {i}: {query}\")\n",
    "    try:\n",
    "        response = agent.process_query(query, session_id)\n",
    "        print(f\"Response: {response['response']}\")\n",
    "        if response['insights']:\n",
    "            print(f\"Insights: {', '.join(response['insights'])}\")\n",
    "        print(\"-\" * 50)\n",
    "    except Exception as e:\n",
    "        print(f\"Error: {e}\")\n",
    "        print(\"-\" * 50)"
   ]
  },
  {
   "cell_type": "markdown",
   "metadata": {},
   "source": [
    "## Session Insights Analysis"
   ]
  },
  {
   "cell_type": "code",
   "execution_count": null,
   "metadata": {},
   "outputs": [],
   "source": [
    "\n",
    "try:\n",
    "    insights = agent.get_session_insights(session_id)\n",
    "    print(\"Session Insights:\")\n",
    "    print(json.dumps(insights, indent=2))\n",
    "except Exception as e:\n",
    "    print(f\"Error getting insights: {e}\")"
   ]
  },
  {
   "cell_type": "markdown",
   "metadata": {},
   "source": [
    "## Test Schema Understanding"
   ]
  },
  {
   "cell_type": "code",
   "execution_count": null,
   "metadata": {},
   "outputs": [],
   "source": [
    "\n",
    "schema_queries = [\n",
    "    \"What collections are available?\",\n",
    "    \"Explain the transactions collection\",\n",
    "    \"What fields are in the customers collection?\"\n",
    "]\n",
    "\n",
    "print(\"Testing schema understanding:\\n\")\n",
    "\n",
    "for query in schema_queries:\n",
    "    print(f\"Query: {query}\")\n",
    "    try:\n",
    "        response = agent.process_query(query, session_id)\n",
    "        print(f\"Response: {response['response']}\")\n",
    "        print(\"-\" * 50)\n",
    "    except Exception as e:\n",
    "        print(f\"Error: {e}\")\n",
    "        print(\"-\" * 50)"
   ]
  },
  {
   "cell_type": "markdown",
   "metadata": {},
   "source": [
    "## Performance Testing"
   ]
  },
  {
   "cell_type": "code",
   "execution_count": null,
   "metadata": {},
   "outputs": [],
   "source": [
    "import time\n",
    "\n",
    "test_queries = [\n",
    "    \"Count customers\",\n",
    "    \"Average transaction amount\",\n",
    "    \"Show accounts\",\n",
    "    \"Total transaction value\",\n",
    "    \"Active customers count\"\n",
    "]\n",
    "\n",
    "print(\"Performance Testing:\\n\")\n",
    "response_times = []\n",
    "\n",
    "for query in test_queries:\n",
    "    start_time = time.time()\n",
    "    try:\n",
    "        response = agent.process_query(query, f\"{session_id}_perf\")\n",
    "        end_time = time.time()\n",
    "        response_time = end_time - start_time\n",
    "        response_times.append(response_time)\n",
    "        print(f\"{query}: {response_time:.2f}s\")\n",
    "    except Exception as e:\n",
    "        print(f\"{query}: Error - {e}\")\n",
    "\n",
    "if response_times:\n",
    "    avg_time = sum(response_times) / len(response_times)\n",
    "    print(f\"\\nAverage response time: {avg_time:.2f}s\")"
   ]
  },
  {
   "cell_type": "markdown",
   "metadata": {},
   "source": [
    "## Error Handling Testing"
   ]
  },
  {
   "cell_type": "code",
   "execution_count": null,
   "metadata": {},
   "outputs": [],
   "source": [
    "\n",
    "error_test_queries = [\n",
    "    \"What is the meaning of life?\",  # Unrelated query\n",
    "    \"Show me unicorns\",  # Non-existent data\n",
    "    \"Calculate the quantum flux\",  # Meaningless query\n",
    "    \"\",  # Empty query\n",
    "    \"asdf jkl; qwerty\"  # Random text\n",
    "]\n",
    "\n",
    "print(\"Error Handling Testing:\\n\")\n",
    "\n",
    "for query in error_test_queries:\n",
    "    print(f\"Query: '{query}'\")\n",
    "    try:\n",
    "        response = agent.process_query(query, f\"{session_id}_error\")\n",
    "        print(f\"Response: {response['response']}\")\n",
    "        print(f\"Query Type: {response['query_type']}\")\n",
    "        print(f\"Confidence: {response['confidence']}\")\n",
    "    except Exception as e:\n",
    "        print(f\"Error handled: {e}\")\n",
    "    print(\"-\" * 50)"
   ]
  },
  {
   "cell_type": "markdown",
   "metadata": {},
   "source": [
    "## Summary\n",
    "\n",
    "This notebook demonstrates the key features of the Conversational Database Agent:\n",
    "\n",
    "1. **Natural Language Understanding**: Classifies user queries into different types\n",
    "2. **Database Integration**: Executes appropriate MongoDB queries\n",
    "3. **Conversation Memory**: Maintains context across multiple exchanges\n",
    "4. **Insight Extraction**: Provides actionable insights from interactions\n",
    "5. **Error Handling**: Gracefully handles ambiguous or invalid queries\n",
    "\n",
    "The agent successfully maps natural language to database operations and provides intelligent responses with contextual awareness."
   ]
  }
 ],
 "metadata": {
  "kernelspec": {
   "display_name": "Python 3",
   "language": "python",
   "name": "python3"
  },
  "language_info": {
   "codemirror_mode": {
    "name": "ipython",
    "version": 3
   },
   "file_extension": ".py",
   "name": "python",
   "nbconvert_exporter": "python",
   "pygments_lexer": "ipython3",
   "version": "3.8.5"
  }
 },
 "nbformat": 4,
 "nbformat_minor": 4
}
